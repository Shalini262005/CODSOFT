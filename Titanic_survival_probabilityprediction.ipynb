{
 "cells": [
  {
   "cell_type": "code",
   "execution_count": null,
   "id": "7eec675b-df70-46ec-ae59-b69b50a0033d",
   "metadata": {
    "tags": []
   },
   "outputs": [],
   "source": [
    "import pandas as pd\n",
    "from sklearn.model_selection import train_test_split\n",
    "from sklearn.linear_model import LogisticRegression\n",
    "import numpy as np\n",
    "# Load the Titanic dataset\n",
    "df = pd.read_csv('titanic.csv')\n",
    "\n",
    "# Preprocess the dataset\n",
    "# Fill in missing values\n",
    "df['Age'] = df['Age'].fillna(df['Age'].mean())\n",
    "df['Fare'] = df['Fare'].fillna(df['Fare'].mean())\n",
    "\n",
    "# Convert categorical features to numerical features\n",
    "df['Sex'] = df['Sex'].map({'male': 0, 'female': 1})\n",
    "df['Embarked'] = df['Embarked'].map({'S': 0, 'C': 1, 'Q': 2})\n",
    "\n",
    "# Create the feature matrix and target vector\n",
    "X = df[['Pclass', 'Sex', 'Age', 'SibSp', 'Parch', 'Fare', 'Embarked']]\n",
    "y = df['Survived']\n",
    "\n",
    "# Split the dataset into training and test sets\n",
    "X_train, X_test, y_train, y_test = train_test_split(X, y, test_size=0.25, random_state=42)\n",
    "\n",
    "# Train a logistic regression model\n",
    "model = LogisticRegression(max_iter=1000)\n",
    "model.fit(X_train, y_train)\n",
    "\n",
    "# Make predictions on the test set\n",
    "y_pred = model.predict(X_test)\n",
    "\n",
    "# Evaluate the model\n",
    "accuracy = model.score(X_test, y_test)\n",
    "print('Accuracy:', accuracy)\n",
    "\n",
    "passenger = {}\n",
    "\n",
    "# Get passenger details from the user\n",
    "passenger['Pclass'] = int(input('Enter Pclass (1, 2, 3): '))\n",
    "passenger['Sex'] = int(input('Enter Sex (0 for female, 1 for male): '))\n",
    "passenger['Age'] = int(input('Enter Age: '))\n",
    "passenger['SibSp'] = int(input('Enter SibSp (number of siblings/spouses): '))\n",
    "passenger['Parch'] = int(input('Enter Parch (number of parents/children): '))\n",
    "passenger['Fare'] = float(input('Enter Fare: '))\n",
    "passenger['Embarked'] = int(input('Enter Embarked (0 for C, 1 for Q, 2 for S): '))\n",
    "\n",
    "# Convert the user input to a 2D array\n",
    "passenger_array = np.array([[passenger['Pclass'], passenger['Sex'], passenger['Age'], passenger['SibSp'], passenger['Parch'], passenger['Fare'], passenger['Embarked']]])\n",
    "\n",
    "# Now you can use the reshaped array to make predictions\n",
    "survival_probability = model.predict_proba(passenger_array)[0][1]\n",
    "print('Survival probability:', survival_probability)"
   ]
  },
  {
   "cell_type": "code",
   "execution_count": null,
   "id": "a62426e3-1ccb-4340-9db9-a4edc07d662f",
   "metadata": {},
   "outputs": [],
   "source": []
  },
  {
   "cell_type": "code",
   "execution_count": null,
   "id": "b15e4df3-a4cb-4d77-9ee6-009a8b2f1c1a",
   "metadata": {},
   "outputs": [],
   "source": []
  }
 ],
 "metadata": {
  "kernelspec": {
   "display_name": "Python 3 (ipykernel)",
   "language": "python",
   "name": "python3"
  },
  "language_info": {
   "codemirror_mode": {
    "name": "ipython",
    "version": 3
   },
   "file_extension": ".py",
   "mimetype": "text/x-python",
   "name": "python",
   "nbconvert_exporter": "python",
   "pygments_lexer": "ipython3",
   "version": "3.11.5"
  }
 },
 "nbformat": 4,
 "nbformat_minor": 5
}
